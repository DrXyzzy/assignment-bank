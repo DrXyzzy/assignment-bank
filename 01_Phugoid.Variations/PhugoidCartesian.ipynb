{
 "metadata": {
  "name": "",
  "signature": "sha256:b1cf0ec1f6a43116826fcbe5d0410d28be355d0a76eb5dcef5bfc9623549e38f"
 },
 "nbformat": 3,
 "nbformat_minor": 0,
 "worksheets": [
  {
   "cells": [
    {
     "cell_type": "heading",
     "level": 1,
     "metadata": {},
     "source": [
      "Cartesian form of the dragless Phugoid model "
     ]
    },
    {
     "cell_type": "heading",
     "level": 3,
     "metadata": {},
     "source": [
      "The model"
     ]
    },
    {
     "cell_type": "markdown",
     "metadata": {},
     "source": [
      "We'll look at the same phugoid model as in the first lesson, but instead of representing the velocity as speed & angle, we'll write everything in $x$ and $y$ coordinates.  The results ought to be the same in the end."
     ]
    },
    {
     "cell_type": "markdown",
     "metadata": {},
     "source": [
      "![Image](./figures/phugoid-forces-cartesian.png)\n",
      "####Figure 1. Forces on a paper plane."
     ]
    },
    {
     "cell_type": "markdown",
     "metadata": {},
     "source": [
      "In Figure 1, $\\vec L$ is the lift vector, $\\vec W$ is the weight vector, $\\vec v$ is the velocity vector of the plane.  We'll write $L, W$, and $v$ for the lengths of these vectors, and $L_x$, $L_y$, etc., for their Cartesian $x$ and $y$ components.\n",
      "\n",
      "The total force on the plane is $\\vec F = \\vec L + \\vec W$.  Once we know the total force, Newton's second law, ``$F=ma$,'' tells us how the velocities change with time,\n",
      "$$\n",
      "m\\frac{dv_x}{dt} = F_x  \\qquad m\\frac{dv_y}{dt} = F_y,  \n",
      "$$\n",
      "while the $(x, y)$ coordinates of the plane change according to\n",
      "$$\n",
      "\\frac{dx}{dt} = v_x \\qquad \\frac{dy}{dt} = v_y.\n",
      "$$\n",
      "\n",
      "The weight vector $\\vec W$ is easy:  its horizontal component $W_x$ is zero, its vertical component is $W_y=-mg$.  The magnitude of the weight is $W=mg$.\n",
      "\n",
      "To find the lift vector we first find its magnitude, and then its direction.  Recall, from the first lesson, that the strength of the lift is proportional to the squared velocity $v^2$, and that the <em>trim velocity</em> $v_t$ is defined to be the velocity at which lift and weight are equal (in size, not necessarily direction).\n",
      "This led us to the following formula for the strength of the lift:\n",
      "$$\n",
      "L = mg\\frac{v^2}{v_t^2}.\\tag{1}\n",
      "$$\n",
      "To find the direction of the lift look at figure 1: the two yellow triangles are similar, so we have\n",
      "$$\n",
      "L_x : L_y = -v_y :v_x.\n",
      "$$\n",
      "Thus\n",
      "$$\n",
      "\\frac{L_x}{-v_y} =  \\frac{L_y}{v_x}.\n",
      "$$\n",
      "If we call this ratio $a$ then we can write the components of the lift as $L_x = -av_y$, $L_y= av_x$.  The length of the lift is given by (1), so we get\n",
      "$$\n",
      "L = \\sqrt{L_x^2+L_y^2} = \\frac{mg}{v_t^2} \\bigl(v_x^2+v_y^2\\bigr).\n",
      "$$\n",
      "Substituting $L_x = -av_y$, $L_y= av_x$, allows us to solve for $a$.  The upshot is that\n",
      "$$\n",
      "L_x = -\\frac{mg}{v_t^2} vv_y, \\qquad\n",
      "L_y = \\frac{mg}{v_t^2} vv_x\n",
      "\\tag{2}\n",
      "$$\n",
      "(where $v=\\surd(v_x^2+v_y^2)$).\n",
      "\n",
      "The combined forces on the paper plane are\n",
      "$$\n",
      "F_x = -\\frac{mg}{v_t^2} vv_y, \\qquad\n",
      "F_y = -mg + \\frac{mg}{v_t^2} vv_x.\\tag{3}\n",
      "$$"
     ]
    },
    {
     "cell_type": "heading",
     "level": 3,
     "metadata": {},
     "source": [
      "The initial value problem"
     ]
    },
    {
     "cell_type": "markdown",
     "metadata": {},
     "source": [
      "By combining Newton's law and the total force (3) we get the following four equations that describe the motino of the paper plane:\n",
      "$$\n",
      "\\left.\n",
      "\\begin{aligned}\n",
      "\\frac{dv_x}{dt} & = -\\frac{g}{v_t^2}\\, vv_y\\\\\n",
      "\\frac{dv_y}{dt} & = -g + \\frac{g}{v_t^2}\\, vv_x\\\\\n",
      "\\frac{dx}{dt} & = v_x\\\\\n",
      "\\frac{dy}{dt} & = v_y.\n",
      "\\end{aligned}\n",
      "\\right\\}\\tag{4}\n",
      "$$\n",
      "Here, as before, $v$ is an abbreviation for $\\surd(v_x^2+v_y^2)$.\n"
     ]
    },
    {
     "cell_type": "heading",
     "level": 2,
     "metadata": {},
     "source": [
      "Solve with Euler's method"
     ]
    },
    {
     "cell_type": "heading",
     "level": 3,
     "metadata": {},
     "source": [
      "Assignment"
     ]
    },
    {
     "cell_type": "markdown",
     "metadata": {},
     "source": [
      "Adapt the code from the first few Phugoid notebooks to solve the differential equations (4), using as parameters $g=9.8$ m/sec, and as trim velocity $v_t=4.9$ m/sec over a time interval of about 8 seconds.\n",
      "\n",
      "<span style=\"color:red\"><i>Initial conditions:  we choose everything zero, i.e. suppose you start with $v_x=v_y=0$, what solution do you get?</i></span>\n",
      "\n",
      "Use both Euler's method and the Midpoint method.  Plot approximate solutions in one figure."
     ]
    },
    {
     "cell_type": "heading",
     "level": 3,
     "metadata": {},
     "source": [
      "A solution"
     ]
    },
    {
     "cell_type": "markdown",
     "metadata": {},
     "source": [
      "Begin by importing numpy, matplotlib, etc..."
     ]
    },
    {
     "cell_type": "code",
     "collapsed": false,
     "input": [
      "from math import sqrt\n",
      "import numpy\n",
      "import matplotlib.pyplot as plt\n",
      "%matplotlib inline\n",
      "from matplotlib import rcParams\n",
      "rcParams['font.family'] = 'serif'\n",
      "rcParams['font.size'] = 16"
     ],
     "language": "python",
     "metadata": {},
     "outputs": [],
     "prompt_number": 41
    },
    {
     "cell_type": "markdown",
     "metadata": {},
     "source": [
      "Set the physical parameters.  Adjust $g$ to your planet and $v_t$ to your glider."
     ]
    },
    {
     "cell_type": "code",
     "collapsed": false,
     "input": [
      "# Physical model parameters:\n",
      "g = 9.8    # gravity in m s^{-2}\n",
      "vt = 4.9   # trim velocity in m s^{-1}, value from the paper plane model"
     ],
     "language": "python",
     "metadata": {},
     "outputs": [],
     "prompt_number": 42
    },
    {
     "cell_type": "markdown",
     "metadata": {},
     "source": [
      "Define the function ```f()``` from the right hand side in the diffeqs (4), and define the two functions that perform one Euler step, and one midpoint step."
     ]
    },
    {
     "cell_type": "code",
     "collapsed": false,
     "input": [
      "def f(u):\n",
      "    \"\"\"Returns the right-hand side of the phugoid system of equations.\n",
      "    input: u, an array containing the solution at time n.\n",
      "    output: dudt=f(u), an array containing the derivatives\n",
      "    \"\"\"\n",
      "    vx,vy = u[0],u[1]\n",
      "    x,y = u[2],u[3]\n",
      "    v = sqrt(vx*vx+vy*vy)\n",
      "    return numpy.array([-g*v*vy/(vt*vt),\n",
      "                        -g+g*v*vx/(vt*vt),\n",
      "                        vx,\n",
      "                        vy ])  \n",
      "\n",
      "def euler_step(u, f, dt):\n",
      "    \"\"\"Returns the solution at the next time-step using Euler's method.\n",
      "    \n",
      "    Parameters\n",
      "    ----------\n",
      "    u : array of float\n",
      "        solution at the previous time-step.\n",
      "    f : function\n",
      "        function to compute the right hand-side of the system of equation.\n",
      "    dt : float\n",
      "        time-increment.\n",
      "    \n",
      "    Returns\n",
      "    -------\n",
      "    u_{n+1} : array of float\n",
      "        approximate solution at the next time step.\n",
      "    \"\"\"\n",
      "    \n",
      "    return u + dt * f(u)\n",
      "\n",
      "def midpoint_step(u, f, dt):\n",
      "    \"\"\"Returns the solution at the next time-step using the midpoint method.\n",
      "    \n",
      "    Parameters\n",
      "    u : array of float\n",
      "        solution at the previous time-step.\n",
      "    f : function\n",
      "        function to compute the right hand-side of the system of equation.\n",
      "    dt : float\n",
      "        time-increment.\n",
      "    \n",
      "    Returns\n",
      "    u_{n+1} : array of float\n",
      "        approximate solution at the next time step.\n",
      "    \"\"\"\n",
      "    umid = u+dt*f(u)/2\n",
      "    return u+dt*f(umid)\n"
     ],
     "language": "python",
     "metadata": {},
     "outputs": [],
     "prompt_number": 43
    },
    {
     "cell_type": "markdown",
     "metadata": {},
     "source": [
      "Choose simulation parameters:  time interval, number of time steps.\n",
      "Then choose the initial conditions.\n",
      "\n",
      "It turns out that we will need about 1000 time steps to keep Euler's method from running into trouble."
     ]
    },
    {
     "cell_type": "code",
     "collapsed": false,
     "input": [
      "### Choose time interval and approximation parameters\n",
      "T = 8.0                        # final time\n",
      "N = 1000                        # number of time-steps\n",
      "dt = T/N                        # time increment\n",
      "t = numpy.linspace(0.0, T, N+1) # time discretization\n",
      "\n",
      "\n",
      "### set initial conditions ###\n",
      "vx0 = 0.0     # start at the trim velocity (or add a delta)\n",
      "vy0 = 0.0     # initial vertical velocity of trajectory\n",
      "x0 = 0.0\n",
      "y0 = 0.0\n",
      "\n",
      "# initialize the array containing the solution for each time-step\n",
      "u = numpy.empty((N+1, 4))\n",
      "v = numpy.empty((N+1, 4))\n",
      "u[0] = numpy.array([vx0, vy0, x0, y0])    # fill 1st element with initial values\n",
      "v[0] = numpy.array([vx0, vy0, x0, y0])    # u&v have same initial values\n",
      "\n",
      "# time loop - Euler method\n",
      "for n in range(N):\n",
      "    u[n+1] = euler_step(u[n], f, dt)\n",
      "    v[n+1] = midpoint_step(v[n], f, dt)\n"
     ],
     "language": "python",
     "metadata": {},
     "outputs": [],
     "prompt_number": 44
    },
    {
     "cell_type": "heading",
     "level": 2,
     "metadata": {},
     "source": [
      "Plot the trajectory"
     ]
    },
    {
     "cell_type": "markdown",
     "metadata": {},
     "source": [
      "In order to plot the path of the glider, we need the location (`x`, `y`) with respect to time. That information is already contained in our NumPy array containing the solution; we just need to pluck it out. \n",
      "\n",
      "Make sure you understand the indices to `u`, below, and the use of the colon notation. If any of it is confusing, read the Python documentation on [Indexing](http://docs.scipy.org/doc/numpy/reference/arrays.indexing.html)."
     ]
    },
    {
     "cell_type": "code",
     "collapsed": false,
     "input": [
      "# get the glider's position with respect to the time\n",
      "xEuler = u[:,2]\n",
      "yEuler = u[:,3]\n",
      "xMidp = v[:,2]\n",
      "yMidp = v[:,3]"
     ],
     "language": "python",
     "metadata": {},
     "outputs": [],
     "prompt_number": 45
    },
    {
     "cell_type": "markdown",
     "metadata": {},
     "source": [
      "Time to plot the path of the glider and get the distance travelled!  Which of the two methods does a better job at preserving energy?"
     ]
    },
    {
     "cell_type": "code",
     "collapsed": false,
     "input": [
      "# visualization of the path\n",
      "plt.figure(figsize=(16,4))\n",
      "plt.grid(True)\n",
      "plt.xlabel(r'x', fontsize=18)\n",
      "plt.ylabel(r'y', fontsize=18)\n",
      "plt.title('GLIDER TRAJECTORY  --  flight time T = %.2f  --  Euler & midpoint time step dt= %4f' %(T,dt), fontsize=16)\n",
      "plt.plot(xEuler, yEuler, 'r', label=\"Euler\")\n",
      "plt.plot(xMidp, yMidp, 'g', label=\"Midpoint\")\n",
      "plt.legend();"
     ],
     "language": "python",
     "metadata": {},
     "outputs": [
      {
       "metadata": {},
       "output_type": "display_data",
       "png": "[encoded data removed]",
       "text": [
        "<matplotlib.figure.Figure at 0x105fb0e10>"
       ]
      }
     ],
     "prompt_number": 46
    },
    {
     "cell_type": "markdown",
     "metadata": {},
     "source": [
      "---\n",
      "\n",
      "######The cell below loads the style of the notebook."
     ]
    },
    {
     "cell_type": "code",
     "collapsed": false,
     "input": [
      "from IPython.core.display import HTML\n",
      "css_file = '../../styles/numericalmoocstyle.css'\n",
      "HTML(open(css_file, \"r\").read())"
     ],
     "language": "python",
     "metadata": {},
     "outputs": [
      {
       "ename": "IOError",
       "evalue": "[Errno 2] No such file or directory: '../../styles/numericalmoocstyle.css'",
       "output_type": "pyerr",
       "traceback": [
        "\u001b[0;31m---------------------------------------------------------------------------\u001b[0m\n\u001b[0;31mIOError\u001b[0m                                   Traceback (most recent call last)",
        "\u001b[0;32m<ipython-input-47-fde599084f9c>\u001b[0m in \u001b[0;36m<module>\u001b[0;34m()\u001b[0m\n\u001b[1;32m      1\u001b[0m \u001b[0;32mfrom\u001b[0m \u001b[0mIPython\u001b[0m\u001b[0;34m.\u001b[0m\u001b[0mcore\u001b[0m\u001b[0;34m.\u001b[0m\u001b[0mdisplay\u001b[0m \u001b[0;32mimport\u001b[0m \u001b[0mHTML\u001b[0m\u001b[0;34m\u001b[0m\u001b[0m\n\u001b[1;32m      2\u001b[0m \u001b[0mcss_file\u001b[0m \u001b[0;34m=\u001b[0m \u001b[0;34m'../../styles/numericalmoocstyle.css'\u001b[0m\u001b[0;34m\u001b[0m\u001b[0m\n\u001b[0;32m----> 3\u001b[0;31m \u001b[0mHTML\u001b[0m\u001b[0;34m(\u001b[0m\u001b[0mopen\u001b[0m\u001b[0;34m(\u001b[0m\u001b[0mcss_file\u001b[0m\u001b[0;34m,\u001b[0m \u001b[0;34m\"r\"\u001b[0m\u001b[0;34m)\u001b[0m\u001b[0;34m.\u001b[0m\u001b[0mread\u001b[0m\u001b[0;34m(\u001b[0m\u001b[0;34m)\u001b[0m\u001b[0;34m)\u001b[0m\u001b[0;34m\u001b[0m\u001b[0m\n\u001b[0m",
        "\u001b[0;31mIOError\u001b[0m: [Errno 2] No such file or directory: '../../styles/numericalmoocstyle.css'"
       ]
      }
     ],
     "prompt_number": 47
    }
   ],
   "metadata": {}
  }
 ]
}